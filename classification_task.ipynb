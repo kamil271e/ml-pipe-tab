{
 "cells": [
  {
   "cell_type": "code",
   "execution_count": 40,
   "id": "0e13948e-eef8-4a7d-bb96-061a85c9ed80",
   "metadata": {
    "tags": []
   },
   "outputs": [],
   "source": [
    "import pandas as pd\n",
    "import seaborn as sns\n",
    "import matplotlib.pyplot as plt\n",
    "import numpy as np\n",
    "from sklearn.model_selection import train_test_split\n",
    "from xgboost import XGBClassifier\n",
    "from lightgbm import LGBMClassifier\n",
    "from catboost import CatBoostClassifier\n",
    "from sklearn.linear_model import RidgeCV\n",
    "from sklearn.ensemble import RandomForestClassifier\n",
    "from sklearn.neural_network import MLPClassifier\n",
    "from sklearn.metrics import f1_score, classification_report, confusion_matrix, roc_curve, roc_auc_score\n",
    "from imblearn.metrics import geometric_mean_score\n",
    "from predictors import stacking_model_pipe, cv_model\n",
    "from imblearn.over_sampling import SMOTE\n",
    "from imblearn.under_sampling import NearMiss\n",
    "\n",
    "pd.set_option('display.max_columns', None)\n",
    "plt.style.use('ggplot')"
   ]
  },
  {
   "cell_type": "code",
   "execution_count": 2,
   "id": "6a6fbdb2-f63a-4bf9-b68c-fec70ecdf7c7",
   "metadata": {},
   "outputs": [],
   "source": [
    "# https://www.kaggle.com/code/adaramit/customer-churn-working-with-imbalanced-dataset"
   ]
  },
  {
   "cell_type": "code",
   "execution_count": 41,
   "id": "765b1b00-f902-4688-a47a-277ba7fb6d45",
   "metadata": {
    "tags": []
   },
   "outputs": [],
   "source": [
    "df = pd.read_excel('data/Telco_Cust_Churn.xls')"
   ]
  },
  {
   "cell_type": "code",
   "execution_count": 42,
   "id": "2a8e69e7-019a-4740-a81b-3768b373b563",
   "metadata": {
    "tags": []
   },
   "outputs": [
    {
     "data": {
      "text/html": [
       "<div>\n",
       "<style scoped>\n",
       "    .dataframe tbody tr th:only-of-type {\n",
       "        vertical-align: middle;\n",
       "    }\n",
       "\n",
       "    .dataframe tbody tr th {\n",
       "        vertical-align: top;\n",
       "    }\n",
       "\n",
       "    .dataframe thead th {\n",
       "        text-align: right;\n",
       "    }\n",
       "</style>\n",
       "<table border=\"1\" class=\"dataframe\">\n",
       "  <thead>\n",
       "    <tr style=\"text-align: right;\">\n",
       "      <th></th>\n",
       "      <th>customerID</th>\n",
       "      <th>gender</th>\n",
       "      <th>SeniorCitizen</th>\n",
       "      <th>Partner</th>\n",
       "      <th>Dependents</th>\n",
       "      <th>tenure</th>\n",
       "      <th>PhoneService</th>\n",
       "      <th>MultipleLines</th>\n",
       "      <th>InternetService</th>\n",
       "      <th>OnlineSecurity</th>\n",
       "      <th>OnlineBackup</th>\n",
       "      <th>DeviceProtection</th>\n",
       "      <th>TechSupport</th>\n",
       "      <th>StreamingTV</th>\n",
       "      <th>StreamingMovies</th>\n",
       "      <th>Contract</th>\n",
       "      <th>PaperlessBilling</th>\n",
       "      <th>PaymentMethod</th>\n",
       "      <th>MonthlyCharges</th>\n",
       "      <th>TotalCharges</th>\n",
       "      <th>Churn</th>\n",
       "    </tr>\n",
       "  </thead>\n",
       "  <tbody>\n",
       "    <tr>\n",
       "      <th>0</th>\n",
       "      <td>7590-VHVEG</td>\n",
       "      <td>Female</td>\n",
       "      <td>0</td>\n",
       "      <td>Yes</td>\n",
       "      <td>No</td>\n",
       "      <td>1</td>\n",
       "      <td>No</td>\n",
       "      <td>No phone service</td>\n",
       "      <td>DSL</td>\n",
       "      <td>No</td>\n",
       "      <td>Yes</td>\n",
       "      <td>No</td>\n",
       "      <td>No</td>\n",
       "      <td>No</td>\n",
       "      <td>No</td>\n",
       "      <td>Month-to-month</td>\n",
       "      <td>Yes</td>\n",
       "      <td>Electronic check</td>\n",
       "      <td>29.85</td>\n",
       "      <td>29.85</td>\n",
       "      <td>No</td>\n",
       "    </tr>\n",
       "    <tr>\n",
       "      <th>1</th>\n",
       "      <td>5575-GNVDE</td>\n",
       "      <td>Male</td>\n",
       "      <td>0</td>\n",
       "      <td>No</td>\n",
       "      <td>No</td>\n",
       "      <td>34</td>\n",
       "      <td>Yes</td>\n",
       "      <td>No</td>\n",
       "      <td>DSL</td>\n",
       "      <td>Yes</td>\n",
       "      <td>No</td>\n",
       "      <td>Yes</td>\n",
       "      <td>No</td>\n",
       "      <td>No</td>\n",
       "      <td>No</td>\n",
       "      <td>One year</td>\n",
       "      <td>No</td>\n",
       "      <td>Mailed check</td>\n",
       "      <td>56.95</td>\n",
       "      <td>1889.5</td>\n",
       "      <td>No</td>\n",
       "    </tr>\n",
       "  </tbody>\n",
       "</table>\n",
       "</div>"
      ],
      "text/plain": [
       "   customerID  gender  SeniorCitizen Partner Dependents  tenure PhoneService  \\\n",
       "0  7590-VHVEG  Female              0     Yes         No       1           No   \n",
       "1  5575-GNVDE    Male              0      No         No      34          Yes   \n",
       "\n",
       "      MultipleLines InternetService OnlineSecurity OnlineBackup  \\\n",
       "0  No phone service             DSL             No          Yes   \n",
       "1                No             DSL            Yes           No   \n",
       "\n",
       "  DeviceProtection TechSupport StreamingTV StreamingMovies        Contract  \\\n",
       "0               No          No          No              No  Month-to-month   \n",
       "1              Yes          No          No              No        One year   \n",
       "\n",
       "  PaperlessBilling     PaymentMethod  MonthlyCharges TotalCharges Churn  \n",
       "0              Yes  Electronic check           29.85        29.85    No  \n",
       "1               No      Mailed check           56.95       1889.5    No  "
      ]
     },
     "execution_count": 42,
     "metadata": {},
     "output_type": "execute_result"
    }
   ],
   "source": [
    "df.head(2)"
   ]
  },
  {
   "cell_type": "code",
   "execution_count": 43,
   "id": "cc3b45b3-8504-4719-a516-7016b56a194e",
   "metadata": {
    "tags": []
   },
   "outputs": [],
   "source": [
    "df['Churn'] = df['Churn'].replace({\"Yes\":1,\"No\":0})"
   ]
  },
  {
   "cell_type": "code",
   "execution_count": 44,
   "id": "13826335-f854-4dba-b880-8dec5b87cac1",
   "metadata": {
    "tags": []
   },
   "outputs": [
    {
     "data": {
      "text/plain": [
       "<Axes: xlabel='Churn', ylabel='count'>"
      ]
     },
     "execution_count": 44,
     "metadata": {},
     "output_type": "execute_result"
    },
    {
     "data": {
      "image/png": "[encoded data removed]",
      "text/plain": [
       "<Figure size 640x480 with 1 Axes>"
      ]
     },
     "metadata": {},
     "output_type": "display_data"
    }
   ],
   "source": [
    "sns.countplot(x='Churn', data=df)"
   ]
  },
  {
   "cell_type": "code",
   "execution_count": 45,
   "id": "62252d7b-6198-47f5-ad02-204629a43e78",
   "metadata": {
    "tags": []
   },
   "outputs": [
    {
     "name": "stdout",
     "output_type": "stream",
     "text": [
      "customerID ['7590-VHVEG' '5575-GNVDE' '3668-QPYBK' ... '4801-JZAZL' '8361-LTMKD'\n",
      " '3186-AJIEK']\n",
      "gender ['Female' 'Male']\n",
      "Partner ['Yes' 'No']\n",
      "Dependents ['No' 'Yes']\n",
      "PhoneService ['No' 'Yes']\n",
      "MultipleLines ['No phone service' 'No' 'Yes']\n",
      "InternetService ['DSL' 'Fiber optic' 'No']\n",
      "OnlineSecurity ['No' 'Yes' 'No internet service']\n",
      "OnlineBackup ['Yes' 'No' 'No internet service']\n",
      "DeviceProtection ['No' 'Yes' 'No internet service']\n",
      "TechSupport ['No' 'Yes' 'No internet service']\n",
      "StreamingTV ['No' 'Yes' 'No internet service']\n",
      "StreamingMovies ['No' 'Yes' 'No internet service']\n",
      "Contract ['Month-to-month' 'One year' 'Two year']\n",
      "PaperlessBilling ['Yes' 'No']\n",
      "PaymentMethod ['Electronic check' 'Mailed check' 'Bank transfer (automatic)'\n",
      " 'Credit card (automatic)']\n",
      "TotalCharges [29.85 1889.5 108.15 ... 346.45 306.6 6844.5]\n"
     ]
    }
   ],
   "source": [
    "for c in [_ for _ in df.columns if df[_].dtype=='object']:\n",
    "    print(c, df[c].unique())"
   ]
  },
  {
   "cell_type": "code",
   "execution_count": 46,
   "id": "5dd1e2d8-b472-439d-9e68-20af1622443e",
   "metadata": {
    "tags": []
   },
   "outputs": [
    {
     "data": {
      "image/png": "[encoded data removed]",
      "text/plain": [
       "<Figure size 1000x500 with 1 Axes>"
      ]
     },
     "metadata": {},
     "output_type": "display_data"
    },
    {
     "data": {
      "image/png": "[encoded data removed]",
      "text/plain": [
       "<Figure size 1000x500 with 1 Axes>"
      ]
     },
     "metadata": {},
     "output_type": "display_data"
    },
    {
     "data": {
      "image/png": "[encoded data removed]",
      "text/plain": [
       "<Figure size 1000x500 with 1 Axes>"
      ]
     },
     "metadata": {},
     "output_type": "display_data"
    }
   ],
   "source": [
    "dummy = ['PaymentMethod', 'Contract', 'InternetService']\n",
    "\n",
    "for d in dummy:\n",
    "    plt.figure(figsize=(10,5))\n",
    "    sns.barplot(x=d,y=\"Churn\",data=df)\n",
    "    plt.title(d)\n",
    "    plt.show()"
   ]
  },
  {
   "cell_type": "code",
   "execution_count": 9,
   "id": "6dace6fa-4dcb-482f-9cd1-a9b7cd7e4a30",
   "metadata": {
    "tags": []
   },
   "outputs": [],
   "source": [
    "# Contract and InternetService should be ordinal\n",
    "# from sklearn.preprocessing import OrdinalEncoder\n",
    "# contract_encoder = OrdinalEncoder(categories=[[\"Two year\", \"One year\", \"Month-to-month\"]])\n",
    "# internet_encoder = OrdinalEncoder(categories=[[\"No\", \"DSL\", \"Fiber optic\"]])\n",
    "# df_contract = contract_encoder.fit_transform(df['Contract'].values.reshape(-1,1))\n",
    "# df_internet = internet_encoder.fit_transform(df['InternetService'].values.reshape(-1,1))\n",
    "# df_contract = pd.DataFrame(df_contract, columns=['Contract'])\n",
    "# df_internet = pd.DataFrame(df_internet, columns=['InternetService'])"
   ]
  },
  {
   "cell_type": "code",
   "execution_count": 47,
   "id": "aa115062-67c1-4a2b-82f6-dd7a1225d905",
   "metadata": {
    "tags": []
   },
   "outputs": [],
   "source": [
    "col_to_drop = ['customerID']\n",
    "col_yes_no = ['Partner',\n",
    "              'Dependents',\n",
    "              'PhoneService',\n",
    "              'MultipleLines',\n",
    "              'OnlineSecurity', \n",
    "              'OnlineBackup', \n",
    "              'DeviceProtection',\n",
    "              'TechSupport',\n",
    "              'StreamingTV',\n",
    "              'StreamingMovies',\n",
    "              'PaperlessBilling',\n",
    "              'Churn']\n",
    "\n",
    "df_payment = pd.get_dummies(df['PaymentMethod'])\n",
    "df_contract = df['Contract'].replace({\"Two year\": 0, \"One year\": 1, \"Month-to-month\": 2})\n",
    "df_internet = df['InternetService'].replace({\"No\": 0, \"DSL\": 1, \"Fiber optic\": 2})\n",
    "\n",
    "df = df.replace(regex=r'No\\s[a-z]+\\sservice', value='No')\n",
    "df['gender'] = df['gender'].replace({\"Female\":0, \"Male\":1})\n",
    "df[col_yes_no] = df[col_yes_no].replace({\"Yes\":1, \"No\": 0})\n",
    "\n",
    "df.drop(col_to_drop, axis=1, inplace=True)\n",
    "df.drop(dummy, axis=1, inplace=True)\n",
    "df = pd.concat((df, df_contract, df_internet, df_payment), axis=1)"
   ]
  },
  {
   "cell_type": "code",
   "execution_count": 48,
   "id": "7281342e-8c37-41f4-a257-214f78d25782",
   "metadata": {
    "tags": []
   },
   "outputs": [
    {
     "data": {
      "text/plain": [
       "11"
      ]
     },
     "execution_count": 48,
     "metadata": {},
     "output_type": "execute_result"
    }
   ],
   "source": [
    "df['TotalCharges'] = pd.to_numeric(df['TotalCharges'], errors='coerce')\n",
    "df['TotalCharges'].isnull().sum()"
   ]
  },
  {
   "cell_type": "code",
   "execution_count": 49,
   "id": "5724b374-4408-4cb1-a7dd-90f7461dbb42",
   "metadata": {
    "tags": []
   },
   "outputs": [],
   "source": [
    "df = df.dropna(subset=['TotalCharges']) # gradboost handle NaN"
   ]
  },
  {
   "cell_type": "code",
   "execution_count": 13,
   "id": "3a3cec07-e04d-47e7-b2a0-7d1126afc011",
   "metadata": {
    "tags": []
   },
   "outputs": [],
   "source": [
    "# df.info()"
   ]
  },
  {
   "cell_type": "code",
   "execution_count": 50,
   "id": "d99a8048-bd7e-49dc-86ad-03d374185a67",
   "metadata": {
    "tags": []
   },
   "outputs": [
    {
     "data": {
      "text/html": [
       "<div>\n",
       "<style scoped>\n",
       "    .dataframe tbody tr th:only-of-type {\n",
       "        vertical-align: middle;\n",
       "    }\n",
       "\n",
       "    .dataframe tbody tr th {\n",
       "        vertical-align: top;\n",
       "    }\n",
       "\n",
       "    .dataframe thead th {\n",
       "        text-align: right;\n",
       "    }\n",
       "</style>\n",
       "<table border=\"1\" class=\"dataframe\">\n",
       "  <thead>\n",
       "    <tr style=\"text-align: right;\">\n",
       "      <th></th>\n",
       "      <th>count</th>\n",
       "      <th>mean</th>\n",
       "      <th>std</th>\n",
       "      <th>min</th>\n",
       "      <th>25%</th>\n",
       "      <th>50%</th>\n",
       "      <th>75%</th>\n",
       "      <th>max</th>\n",
       "    </tr>\n",
       "  </thead>\n",
       "  <tbody>\n",
       "    <tr>\n",
       "      <th>gender</th>\n",
       "      <td>7032.0</td>\n",
       "      <td>0.504693</td>\n",
       "      <td>0.500014</td>\n",
       "      <td>0.00</td>\n",
       "      <td>0.0000</td>\n",
       "      <td>1.000</td>\n",
       "      <td>1.0000</td>\n",
       "      <td>1.00</td>\n",
       "    </tr>\n",
       "    <tr>\n",
       "      <th>SeniorCitizen</th>\n",
       "      <td>7032.0</td>\n",
       "      <td>0.162400</td>\n",
       "      <td>0.368844</td>\n",
       "      <td>0.00</td>\n",
       "      <td>0.0000</td>\n",
       "      <td>0.000</td>\n",
       "      <td>0.0000</td>\n",
       "      <td>1.00</td>\n",
       "    </tr>\n",
       "    <tr>\n",
       "      <th>Partner</th>\n",
       "      <td>7032.0</td>\n",
       "      <td>0.482509</td>\n",
       "      <td>0.499729</td>\n",
       "      <td>0.00</td>\n",
       "      <td>0.0000</td>\n",
       "      <td>0.000</td>\n",
       "      <td>1.0000</td>\n",
       "      <td>1.00</td>\n",
       "    </tr>\n",
       "    <tr>\n",
       "      <th>Dependents</th>\n",
       "      <td>7032.0</td>\n",
       "      <td>0.298493</td>\n",
       "      <td>0.457629</td>\n",
       "      <td>0.00</td>\n",
       "      <td>0.0000</td>\n",
       "      <td>0.000</td>\n",
       "      <td>1.0000</td>\n",
       "      <td>1.00</td>\n",
       "    </tr>\n",
       "    <tr>\n",
       "      <th>tenure</th>\n",
       "      <td>7032.0</td>\n",
       "      <td>32.421786</td>\n",
       "      <td>24.545260</td>\n",
       "      <td>1.00</td>\n",
       "      <td>9.0000</td>\n",
       "      <td>29.000</td>\n",
       "      <td>55.0000</td>\n",
       "      <td>72.00</td>\n",
       "    </tr>\n",
       "    <tr>\n",
       "      <th>PhoneService</th>\n",
       "      <td>7032.0</td>\n",
       "      <td>0.903299</td>\n",
       "      <td>0.295571</td>\n",
       "      <td>0.00</td>\n",
       "      <td>1.0000</td>\n",
       "      <td>1.000</td>\n",
       "      <td>1.0000</td>\n",
       "      <td>1.00</td>\n",
       "    </tr>\n",
       "    <tr>\n",
       "      <th>MultipleLines</th>\n",
       "      <td>7032.0</td>\n",
       "      <td>0.421928</td>\n",
       "      <td>0.493902</td>\n",
       "      <td>0.00</td>\n",
       "      <td>0.0000</td>\n",
       "      <td>0.000</td>\n",
       "      <td>1.0000</td>\n",
       "      <td>1.00</td>\n",
       "    </tr>\n",
       "    <tr>\n",
       "      <th>OnlineSecurity</th>\n",
       "      <td>7032.0</td>\n",
       "      <td>0.286547</td>\n",
       "      <td>0.452180</td>\n",
       "      <td>0.00</td>\n",
       "      <td>0.0000</td>\n",
       "      <td>0.000</td>\n",
       "      <td>1.0000</td>\n",
       "      <td>1.00</td>\n",
       "    </tr>\n",
       "    <tr>\n",
       "      <th>OnlineBackup</th>\n",
       "      <td>7032.0</td>\n",
       "      <td>0.344852</td>\n",
       "      <td>0.475354</td>\n",
       "      <td>0.00</td>\n",
       "      <td>0.0000</td>\n",
       "      <td>0.000</td>\n",
       "      <td>1.0000</td>\n",
       "      <td>1.00</td>\n",
       "    </tr>\n",
       "    <tr>\n",
       "      <th>DeviceProtection</th>\n",
       "      <td>7032.0</td>\n",
       "      <td>0.343857</td>\n",
       "      <td>0.475028</td>\n",
       "      <td>0.00</td>\n",
       "      <td>0.0000</td>\n",
       "      <td>0.000</td>\n",
       "      <td>1.0000</td>\n",
       "      <td>1.00</td>\n",
       "    </tr>\n",
       "    <tr>\n",
       "      <th>TechSupport</th>\n",
       "      <td>7032.0</td>\n",
       "      <td>0.290102</td>\n",
       "      <td>0.453842</td>\n",
       "      <td>0.00</td>\n",
       "      <td>0.0000</td>\n",
       "      <td>0.000</td>\n",
       "      <td>1.0000</td>\n",
       "      <td>1.00</td>\n",
       "    </tr>\n",
       "    <tr>\n",
       "      <th>StreamingTV</th>\n",
       "      <td>7032.0</td>\n",
       "      <td>0.384386</td>\n",
       "      <td>0.486484</td>\n",
       "      <td>0.00</td>\n",
       "      <td>0.0000</td>\n",
       "      <td>0.000</td>\n",
       "      <td>1.0000</td>\n",
       "      <td>1.00</td>\n",
       "    </tr>\n",
       "    <tr>\n",
       "      <th>StreamingMovies</th>\n",
       "      <td>7032.0</td>\n",
       "      <td>0.388367</td>\n",
       "      <td>0.487414</td>\n",
       "      <td>0.00</td>\n",
       "      <td>0.0000</td>\n",
       "      <td>0.000</td>\n",
       "      <td>1.0000</td>\n",
       "      <td>1.00</td>\n",
       "    </tr>\n",
       "    <tr>\n",
       "      <th>PaperlessBilling</th>\n",
       "      <td>7032.0</td>\n",
       "      <td>0.592719</td>\n",
       "      <td>0.491363</td>\n",
       "      <td>0.00</td>\n",
       "      <td>0.0000</td>\n",
       "      <td>1.000</td>\n",
       "      <td>1.0000</td>\n",
       "      <td>1.00</td>\n",
       "    </tr>\n",
       "    <tr>\n",
       "      <th>MonthlyCharges</th>\n",
       "      <td>7032.0</td>\n",
       "      <td>64.798208</td>\n",
       "      <td>30.085974</td>\n",
       "      <td>18.25</td>\n",
       "      <td>35.5875</td>\n",
       "      <td>70.350</td>\n",
       "      <td>89.8625</td>\n",
       "      <td>118.75</td>\n",
       "    </tr>\n",
       "    <tr>\n",
       "      <th>TotalCharges</th>\n",
       "      <td>7032.0</td>\n",
       "      <td>2283.300441</td>\n",
       "      <td>2266.771362</td>\n",
       "      <td>18.80</td>\n",
       "      <td>401.4500</td>\n",
       "      <td>1397.475</td>\n",
       "      <td>3794.7375</td>\n",
       "      <td>8684.80</td>\n",
       "    </tr>\n",
       "    <tr>\n",
       "      <th>Churn</th>\n",
       "      <td>7032.0</td>\n",
       "      <td>0.265785</td>\n",
       "      <td>0.441782</td>\n",
       "      <td>0.00</td>\n",
       "      <td>0.0000</td>\n",
       "      <td>0.000</td>\n",
       "      <td>1.0000</td>\n",
       "      <td>1.00</td>\n",
       "    </tr>\n",
       "    <tr>\n",
       "      <th>Contract</th>\n",
       "      <td>7032.0</td>\n",
       "      <td>1.311433</td>\n",
       "      <td>0.832934</td>\n",
       "      <td>0.00</td>\n",
       "      <td>1.0000</td>\n",
       "      <td>2.000</td>\n",
       "      <td>2.0000</td>\n",
       "      <td>2.00</td>\n",
       "    </tr>\n",
       "    <tr>\n",
       "      <th>InternetService</th>\n",
       "      <td>7032.0</td>\n",
       "      <td>1.224118</td>\n",
       "      <td>0.778643</td>\n",
       "      <td>0.00</td>\n",
       "      <td>1.0000</td>\n",
       "      <td>1.000</td>\n",
       "      <td>2.0000</td>\n",
       "      <td>2.00</td>\n",
       "    </tr>\n",
       "  </tbody>\n",
       "</table>\n",
       "</div>"
      ],
      "text/plain": [
       "                   count         mean          std    min       25%       50%  \\\n",
       "gender            7032.0     0.504693     0.500014   0.00    0.0000     1.000   \n",
       "SeniorCitizen     7032.0     0.162400     0.368844   0.00    0.0000     0.000   \n",
       "Partner           7032.0     0.482509     0.499729   0.00    0.0000     0.000   \n",
       "Dependents        7032.0     0.298493     0.457629   0.00    0.0000     0.000   \n",
       "tenure            7032.0    32.421786    24.545260   1.00    9.0000    29.000   \n",
       "PhoneService      7032.0     0.903299     0.295571   0.00    1.0000     1.000   \n",
       "MultipleLines     7032.0     0.421928     0.493902   0.00    0.0000     0.000   \n",
       "OnlineSecurity    7032.0     0.286547     0.452180   0.00    0.0000     0.000   \n",
       "OnlineBackup      7032.0     0.344852     0.475354   0.00    0.0000     0.000   \n",
       "DeviceProtection  7032.0     0.343857     0.475028   0.00    0.0000     0.000   \n",
       "TechSupport       7032.0     0.290102     0.453842   0.00    0.0000     0.000   \n",
       "StreamingTV       7032.0     0.384386     0.486484   0.00    0.0000     0.000   \n",
       "StreamingMovies   7032.0     0.388367     0.487414   0.00    0.0000     0.000   \n",
       "PaperlessBilling  7032.0     0.592719     0.491363   0.00    0.0000     1.000   \n",
       "MonthlyCharges    7032.0    64.798208    30.085974  18.25   35.5875    70.350   \n",
       "TotalCharges      7032.0  2283.300441  2266.771362  18.80  401.4500  1397.475   \n",
       "Churn             7032.0     0.265785     0.441782   0.00    0.0000     0.000   \n",
       "Contract          7032.0     1.311433     0.832934   0.00    1.0000     2.000   \n",
       "InternetService   7032.0     1.224118     0.778643   0.00    1.0000     1.000   \n",
       "\n",
       "                        75%      max  \n",
       "gender               1.0000     1.00  \n",
       "SeniorCitizen        0.0000     1.00  \n",
       "Partner              1.0000     1.00  \n",
       "Dependents           1.0000     1.00  \n",
       "tenure              55.0000    72.00  \n",
       "PhoneService         1.0000     1.00  \n",
       "MultipleLines        1.0000     1.00  \n",
       "OnlineSecurity       1.0000     1.00  \n",
       "OnlineBackup         1.0000     1.00  \n",
       "DeviceProtection     1.0000     1.00  \n",
       "TechSupport          1.0000     1.00  \n",
       "StreamingTV          1.0000     1.00  \n",
       "StreamingMovies      1.0000     1.00  \n",
       "PaperlessBilling     1.0000     1.00  \n",
       "MonthlyCharges      89.8625   118.75  \n",
       "TotalCharges      3794.7375  8684.80  \n",
       "Churn                1.0000     1.00  \n",
       "Contract             2.0000     2.00  \n",
       "InternetService      2.0000     2.00  "
      ]
     },
     "execution_count": 50,
     "metadata": {},
     "output_type": "execute_result"
    }
   ],
   "source": [
    "df.describe().T"
   ]
  },
  {
   "cell_type": "code",
   "execution_count": 64,
   "id": "2b4752a2-56b8-4f5b-b891-3f31860df293",
   "metadata": {
    "tags": []
   },
   "outputs": [
    {
     "data": {
      "text/html": [
       "<style type=\"text/css\">\n",
       "#T_f4f6b_row0_col0, #T_f4f6b_row1_col1, #T_f4f6b_row2_col2 {\n",
       "  background-color: #006837;\n",
       "  color: #f1f1f1;\n",
       "}\n",
       "#T_f4f6b_row0_col1, #T_f4f6b_row1_col0, #T_f4f6b_row1_col2 {\n",
       "  background-color: #a50026;\n",
       "  color: #f1f1f1;\n",
       "}\n",
       "#T_f4f6b_row0_col2 {\n",
       "  background-color: #feffbe;\n",
       "  color: #000000;\n",
       "}\n",
       "#T_f4f6b_row2_col0 {\n",
       "  background-color: #7ac665;\n",
       "  color: #000000;\n",
       "}\n",
       "#T_f4f6b_row2_col1 {\n",
       "  background-color: #f1f9ac;\n",
       "  color: #000000;\n",
       "}\n",
       "</style>\n",
       "<table id=\"T_f4f6b\">\n",
       "  <thead>\n",
       "    <tr>\n",
       "      <th class=\"blank level0\" >&nbsp;</th>\n",
       "      <th id=\"T_f4f6b_level0_col0\" class=\"col_heading level0 col0\" >tenure</th>\n",
       "      <th id=\"T_f4f6b_level0_col1\" class=\"col_heading level0 col1\" >MonthlyCharges</th>\n",
       "      <th id=\"T_f4f6b_level0_col2\" class=\"col_heading level0 col2\" >TotalCharges</th>\n",
       "    </tr>\n",
       "  </thead>\n",
       "  <tbody>\n",
       "    <tr>\n",
       "      <th id=\"T_f4f6b_level0_row0\" class=\"row_heading level0 row0\" >tenure</th>\n",
       "      <td id=\"T_f4f6b_row0_col0\" class=\"data row0 col0\" >1.000000</td>\n",
       "      <td id=\"T_f4f6b_row0_col1\" class=\"data row0 col1\" >0.246862</td>\n",
       "      <td id=\"T_f4f6b_row0_col2\" class=\"data row0 col2\" >0.825880</td>\n",
       "    </tr>\n",
       "    <tr>\n",
       "      <th id=\"T_f4f6b_level0_row1\" class=\"row_heading level0 row1\" >MonthlyCharges</th>\n",
       "      <td id=\"T_f4f6b_row1_col0\" class=\"data row1 col0\" >0.246862</td>\n",
       "      <td id=\"T_f4f6b_row1_col1\" class=\"data row1 col1\" >1.000000</td>\n",
       "      <td id=\"T_f4f6b_row1_col2\" class=\"data row1 col2\" >0.651065</td>\n",
       "    </tr>\n",
       "    <tr>\n",
       "      <th id=\"T_f4f6b_level0_row2\" class=\"row_heading level0 row2\" >TotalCharges</th>\n",
       "      <td id=\"T_f4f6b_row2_col0\" class=\"data row2 col0\" >0.825880</td>\n",
       "      <td id=\"T_f4f6b_row2_col1\" class=\"data row2 col1\" >0.651065</td>\n",
       "      <td id=\"T_f4f6b_row2_col2\" class=\"data row2 col2\" >1.000000</td>\n",
       "    </tr>\n",
       "  </tbody>\n",
       "</table>\n"
      ],
      "text/plain": [
       "<pandas.io.formats.style.Styler at 0x7f993fe6c9a0>"
      ]
     },
     "execution_count": 64,
     "metadata": {},
     "output_type": "execute_result"
    }
   ],
   "source": [
    "df[['tenure', 'MonthlyCharges', 'TotalCharges']].corr().style.background_gradient(cmap='RdYlGn')"
   ]
  },
  {
   "cell_type": "code",
   "execution_count": 66,
   "id": "21229292-64ed-470c-8bcc-a3a3f0b72f6d",
   "metadata": {
    "tags": []
   },
   "outputs": [
    {
     "data": {
      "text/plain": [
       "<Axes: xlabel='tenure', ylabel='Count'>"
      ]
     },
     "execution_count": 66,
     "metadata": {},
     "output_type": "execute_result"
    },
    {
     "data": {
      "image/png": "[encoded data removed]",
      "text/plain": [
       "<Figure size 640x480 with 1 Axes>"
      ]
     },
     "metadata": {},
     "output_type": "display_data"
    }
   ],
   "source": [
    "sns.histplot(df['tenure'])"
   ]
  },
  {
   "cell_type": "code",
   "execution_count": 51,
   "id": "d0bb28d4-3386-4a97-af76-8f3283107a16",
   "metadata": {
    "tags": []
   },
   "outputs": [],
   "source": [
    "y, X = df['Churn'], df.drop(['Churn'], axis=1)"
   ]
  },
  {
   "cell_type": "code",
   "execution_count": 58,
   "id": "356a48ef-62f0-45c9-a33c-a7160b4de14d",
   "metadata": {
    "tags": []
   },
   "outputs": [
    {
     "name": "stdout",
     "output_type": "stream",
     "text": [
      "              precision    recall  f1-score   support\n",
      "\n",
      "           0       0.90      0.85      0.87      1105\n",
      "           1       0.54      0.65      0.59       302\n",
      "\n",
      "    accuracy                           0.81      1407\n",
      "   macro avg       0.72      0.75      0.73      1407\n",
      "weighted avg       0.82      0.81      0.81      1407\n",
      "\n",
      "0.5907046476761619 0.6966627933721805\n"
     ]
    }
   ],
   "source": [
    "X_train, X_test, y_train, y_test = train_test_split(X, y, test_size=0.2, random_state=99)\n",
    "\n",
    "model = XGBClassifier()\n",
    "model.fit(X_train, y_train)\n",
    "y_hat = model.predict(X_test)\n",
    "print(classification_report(y_hat, y_test))\n",
    "print(f1_score(y_test, y_hat), geometric_mean_score(y_test, y_hat))"
   ]
  },
  {
   "cell_type": "code",
   "execution_count": 19,
   "id": "c8f908c0-6a7c-4b59-bb31-522bff1aee0c",
   "metadata": {
    "tags": []
   },
   "outputs": [],
   "source": [
    "# X_train, y_train = SMOTE().fit_resample(X_train, y_train)\n",
    "X_train, y_train = NearMiss(version=3).fit_resample(X_train, y_train)"
   ]
  },
  {
   "cell_type": "code",
   "execution_count": 60,
   "id": "b2b7c1c5-727a-4442-a95e-ca25c2fbd338",
   "metadata": {
    "tags": []
   },
   "outputs": [
    {
     "name": "stdout",
     "output_type": "stream",
     "text": [
      "              precision    recall  f1-score   support\n",
      "\n",
      "           0       0.85      0.92      0.89      1042\n",
      "           1       0.71      0.54      0.61       365\n",
      "\n",
      "    accuracy                           0.82      1407\n",
      "   macro avg       0.78      0.73      0.75      1407\n",
      "weighted avg       0.81      0.82      0.81      1407\n",
      "\n",
      "0.7044673790305788\n"
     ]
    }
   ],
   "source": [
    "params = {\n",
    "    'n_estimators': np.linspace(10, 200, 10).astype(int),\n",
    "    'learning_rate': np.linspace(0.01, 0.1, 10),\n",
    "    \"depth\": np.linspace(1, 10, 5).astype(int),\n",
    "    \"subsample\": np.linspace(0.05, 1.0, 10),\n",
    "}\n",
    "model = cv_model(cv=10, rand=True, model=CatBoostClassifier(verbose=0), params=params)\n",
    "model.fit(X_train, y_train)\n",
    "y_hat = model.predict(X_test)\n",
    "print(classification_report(y_test, y_hat))\n",
    "print(geometric_mean_score(y_test, y_hat))"
   ]
  },
  {
   "cell_type": "code",
   "execution_count": 25,
   "id": "73d9cfaa-203f-4289-b07a-86963f2ad9c0",
   "metadata": {
    "tags": []
   },
   "outputs": [],
   "source": [
    "# import optuna\n",
    "# import warnings\n",
    "# from sklearn.model_selection import cross_val_score\n",
    "# from catboost import CatBoostClassifier\n",
    "# from sklearn.metrics import make_scorer, f1_score\n",
    "\n",
    "# optuna.logging.set_verbosity(0)\n",
    "# warnings.simplefilter(action='ignore', category=FutureWarning)\n",
    "\n",
    "# def objective(trial):\n",
    "#     params = {\n",
    "#         'n_estimators': trial.suggest_int('n_estimators', 10, 200),\n",
    "#         'learning_rate': trial.suggest_uniform('learning_rate', 0.01, 0.1),\n",
    "#         'depth': trial.suggest_int('depth', 1, 10),\n",
    "#         'subsample': trial.suggest_uniform('subsample', 0.05, 1.0)\n",
    "#     }\n",
    "#     model = CatBoostClassifier(verbose=0, **params)\n",
    "#     cv_scores = cross_val_score(model, X_train, y_train, cv=10, scoring=make_scorer(geometric_mean_score))\n",
    "#     return cv_scores.mean()\n",
    "\n",
    "# study = optuna.create_study(direction='maximize')\n",
    "# study.optimize(objective, n_trials=20)\n",
    "# best_params = study.best_params\n",
    "# best_model = CatBoostClassifier(verbose=0, **best_params)\n",
    "# best_model.fit(X_train, y_train)\n",
    "# y_hat = best_model.predict(X_test)\n",
    "# f1_score(y_test, y_hat), geometric_mean_score(y_test, y_hat)"
   ]
  },
  {
   "cell_type": "code",
   "execution_count": 26,
   "id": "5da20a67-f5b9-4b65-91de-c09ba005a470",
   "metadata": {},
   "outputs": [],
   "source": [
    "# classifiers = [XGBClassifier(verbosity=0), LGBMClassifier(verbose=-1), CatBoostClassifier(verbose=0)]\n",
    "# param_list = [params, params, params]\n",
    "\n",
    "# ensemble, weak_learners = stacking_model_pipe(X=X_train,\n",
    "#                                    y=y_train,\n",
    "#                                    models=classifiers,\n",
    "#                                    params=param_list,\n",
    "#                                    final_estimator=MLPClassifier(),\n",
    "#                                    model_type=\"classification\")\n",
    "\n",
    "# y_hat = ensemble.predict(X_test)\n",
    "# ensemble_f1, ensemble_gm = f1_score(y_test, y_hat), geometric_mean_score(y_test, y_hat)\n",
    "# ensemble_f1, ensemble_gm"
   ]
  },
  {
   "cell_type": "code",
   "execution_count": 27,
   "id": "dc02082e-7db7-464a-8eb8-57b5a23407c1",
   "metadata": {},
   "outputs": [],
   "source": [
    "# # # sanity check\n",
    "# for i, model in enumerate(weak_learners):\n",
    "#     y_hat_weak = model[1].predict(X_test)\n",
    "#     f1,gm = f1_score(y_test, y_hat_weak), geometric_mean_score(y_test, y_hat_weak)\n",
    "#     if f1 > ensemble_f1 or gm > ensemble_gm:\n",
    "#         print(f'Weak learner {i} is better than ensemble: {f1} {gm}')"
   ]
  },
  {
   "cell_type": "code",
   "execution_count": 28,
   "id": "f64e49bf-f95f-49ce-8894-54b834bcc58a",
   "metadata": {
    "tags": []
   },
   "outputs": [],
   "source": [
    "# # %%time\n",
    "# rforest_params = {\n",
    "#     'n_estimators': np.linspace(10, 1000, 10).astype(int),\n",
    "# }\n",
    "\n",
    "# forest = RandomForestClassifier()\n",
    "# model = cv_model(cv=10, rand=True, model=RandomForestClassifier(), params=rforest_params)\n",
    "# model.fit(X_train, y_train)\n",
    "# y_hat = model.predict(X_test)\n",
    "# print(f1_score(y_test, y_hat), geometric_mean_score(y_test, y_hat))\n",
    "# random forest with SMOTE works very nice - similar scores to catboost"
   ]
  },
  {
   "cell_type": "code",
   "execution_count": 29,
   "id": "409e5ad5-4a93-484f-909f-35e3b55891cb",
   "metadata": {},
   "outputs": [],
   "source": [
    "# TODO:\n",
    "# variance thrsh, correlation plot, EDA"
   ]
  },
  {
   "cell_type": "code",
   "execution_count": 30,
   "id": "77c5913c-5fd3-4f46-a6ef-abf61e00a220",
   "metadata": {
    "tags": []
   },
   "outputs": [
    {
     "data": {
      "image/png": "[encoded data removed]",
      "text/plain": [
       "<Figure size 640x480 with 1 Axes>"
      ]
     },
     "metadata": {},
     "output_type": "display_data"
    }
   ],
   "source": [
    "y_hat_proba = model.predict_proba(X_test)[:,1]\n",
    "auc = roc_auc_score(y_test, y_hat_proba)\n",
    "\n",
    "fpr, tpr, thresholds = roc_curve(y_test, y_hat_proba)\n",
    "\n",
    "plt.plot(fpr, tpr)\n",
    "plt.xlabel('FPR')\n",
    "plt.ylabel('TPR')\n",
    "plt.title(f'ROC, AUC: {round(auc,3)}')\n",
    "plt.show()\n"
   ]
  },
  {
   "cell_type": "code",
   "execution_count": 31,
   "id": "dd3d49a4-b5b6-46fd-a50a-26e4f9dbce53",
   "metadata": {
    "tags": []
   },
   "outputs": [],
   "source": [
    "# retraining\n",
    "clf = CatBoostClassifier(verbose=0, **model.best_params_)"
   ]
  },
  {
   "cell_type": "code",
   "execution_count": 32,
   "id": "dcf4053d-f338-488f-80c9-e6f7991134de",
   "metadata": {
    "tags": []
   },
   "outputs": [
    {
     "data": {
      "text/plain": [
       "0       0\n",
       "1       0\n",
       "2       0\n",
       "3       0\n",
       "4       0\n",
       "       ..\n",
       "3829    1\n",
       "1856    1\n",
       "5967    1\n",
       "4767    0\n",
       "1075    0\n",
       "Name: Churn, Length: 4566, dtype: int64"
      ]
     },
     "execution_count": 32,
     "metadata": {},
     "output_type": "execute_result"
    }
   ],
   "source": [
    "X = pd.concat((X_train, X_test), axis=0)\n",
    "y = pd.concat((y_train, y_test), axis=0)\n",
    "y"
   ]
  },
  {
   "cell_type": "code",
   "execution_count": 33,
   "id": "09284ceb-c4ee-4516-a91f-139382ca422a",
   "metadata": {
    "tags": []
   },
   "outputs": [
    {
     "data": {
      "text/plain": [
       "<catboost.core.CatBoostClassifier at 0x7f9974804a30>"
      ]
     },
     "execution_count": 33,
     "metadata": {},
     "output_type": "execute_result"
    }
   ],
   "source": [
    "clf.fit(X,y)"
   ]
  },
  {
   "cell_type": "code",
   "execution_count": 34,
   "id": "ab52c42e-b2c4-4ddc-a8bd-c2ba35866514",
   "metadata": {
    "tags": []
   },
   "outputs": [],
   "source": [
    "# ..."
   ]
  }
 ],
 "metadata": {
  "kernelspec": {
   "display_name": "Python 3 (ipykernel)",
   "language": "python",
   "name": "python3"
  },
  "language_info": {
   "codemirror_mode": {
    "name": "ipython",
    "version": 3
   },
   "file_extension": ".py",
   "mimetype": "text/x-python",
   "name": "python",
   "nbconvert_exporter": "python",
   "pygments_lexer": "ipython3",
   "version": "3.9.17"
  }
 },
 "nbformat": 4,
 "nbformat_minor": 5
}
